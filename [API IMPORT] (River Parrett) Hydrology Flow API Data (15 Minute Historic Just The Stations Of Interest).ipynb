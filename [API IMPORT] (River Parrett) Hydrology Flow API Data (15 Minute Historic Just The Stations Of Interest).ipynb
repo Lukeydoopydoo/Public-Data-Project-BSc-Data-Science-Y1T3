{
 "cells": [
  {
   "cell_type": "markdown",
   "metadata": {
    "application/vnd.databricks.v1+cell": {
     "cellMetadata": {},
     "inputWidgets": {},
     "nuid": "14b8805e-31c8-4e74-8391-ad1618c92e6e",
     "showTitle": false,
     "tableResultSettingsMap": {},
     "title": ""
    }
   },
   "source": [
    "### Importing the flow data."
   ]
  },
  {
   "cell_type": "code",
   "execution_count": 0,
   "metadata": {
    "application/vnd.databricks.v1+cell": {
     "cellMetadata": {
      "byteLimit": 2048000,
      "rowLimit": 10000
     },
     "inputWidgets": {},
     "nuid": "621fc7f1-66c9-49db-b4ec-a5c3361d5e1f",
     "showTitle": false,
     "tableResultSettingsMap": {},
     "title": ""
    }
   },
   "outputs": [],
   "source": [
    "#Import required libraries.\n",
    "import requests as rq\n",
    "import pandas as pd\n",
    "import os"
   ]
  },
  {
   "cell_type": "code",
   "execution_count": 0,
   "metadata": {
    "application/vnd.databricks.v1+cell": {
     "cellMetadata": {
      "byteLimit": 2048000,
      "rowLimit": 10000
     },
     "inputWidgets": {},
     "nuid": "c8770087-b43e-40f4-ae8b-74138ae3f89c",
     "showTitle": false,
     "tableResultSettingsMap": {},
     "title": ""
    }
   },
   "outputs": [],
   "source": [
    "#API URL to get water flow stations on River Parrett.\n",
    "api_url = \"http://environment.data.gov.uk/hydrology/id/stations.json\"\n",
    "params = {\"observedProperty\": \"waterFlow\",\"riverName\": \"River Parrett\"}\n",
    "\n",
    "# Request data from the API using 'get'.\n",
    "response = requests.get(api_url, params=params)\n",
    "response.raise_for_status()  # Stop if there's an error and defines the error.\n",
    "stations = response.json().get(\"items\", []) #Converts the response into a Python dictionary and gets the \"items\" key.\n",
    "\n",
    "# Extract relevant data into a list using list comprehension, checking it is a dictionary and is complete. [<expression> for <item> in <iterable> if <condition>]\n",
    "station_data = [{\"Station Name\": station.get(\"label\"),\"GUID\": station.get(\"stationGuid\"),\"Latitude\": station.get(\"lat\"),\"Longitude\": station.get(\"long\"),\"River Served\": station.get(\"riverName\", \"N/A\"),\"Catchment\": station.get(\"catchmentName\", \"N/A\")} for station in stations if isinstance(station, dict) and station.get(\"notation\")]\n",
    "\n",
    "# Convert to DataFrame.\n",
    "df_stations = pd.DataFrame(station_data)\n"
   ]
  },
  {
   "cell_type": "code",
   "execution_count": 0,
   "metadata": {
    "application/vnd.databricks.v1+cell": {
     "cellMetadata": {
      "byteLimit": 2048000,
      "rowLimit": 10000
     },
     "inputWidgets": {},
     "nuid": "fdca30d2-c27c-40d5-a0dd-92d2c9ee3879",
     "showTitle": false,
     "tableResultSettingsMap": {},
     "title": ""
    }
   },
   "outputs": [],
   "source": [
    "#Initialise a list.\n",
    "readings = []\n",
    "\n",
    " #Loop over unique station GUIDs\n",
    "for guid in df_stations[\"GUID\"].dropna().unique():\n",
    "    #API URL.\n",
    "    url = \"http://environment.data.gov.uk/hydrology/data/readings.json\"\n",
    "    #Parameters for the request. \n",
    "    params = {\"station\": guid,\"observedProperty\": \"waterFlow\",\"periodName\": \"15min\",\"mineq-date\": \"2019-12-19\",\"max-date\": \"2024-11-25\",\"_limit\": 2000000}\n",
    "    #Parameters for the request. \n",
    "    response = rq.get(url, params=params)\n",
    "    response.raise_for_status()  # Stop if there's an error and defines the error.\n",
    "    items = response.json().get(\"items\", []) #Returns a Python dictionary of the items.\n",
    "    # Append readings to the list, adding the GUID for reference.\n",
    "    for item in items:\n",
    "        item[\"GUID\"] = guid\n",
    "        readings.append(item)\n",
    "\n",
    "#Create a DataFrame from the collected readings.\n",
    "df_readings = pd.DataFrame(readings)\n"
   ]
  },
  {
   "cell_type": "code",
   "execution_count": 0,
   "metadata": {
    "application/vnd.databricks.v1+cell": {
     "cellMetadata": {
      "byteLimit": 2048000,
      "rowLimit": 10000
     },
     "inputWidgets": {},
     "nuid": "f2264dc4-f92d-4cb5-b998-dfa16b4126b4",
     "showTitle": false,
     "tableResultSettingsMap": {},
     "title": ""
    }
   },
   "outputs": [
    {
     "output_type": "execute_result",
     "data": {
      "text/html": [
       "<div>\n",
       "<style scoped>\n",
       "    .dataframe tbody tr th:only-of-type {\n",
       "        vertical-align: middle;\n",
       "    }\n",
       "\n",
       "    .dataframe tbody tr th {\n",
       "        vertical-align: top;\n",
       "    }\n",
       "\n",
       "    .dataframe thead th {\n",
       "        text-align: right;\n",
       "    }\n",
       "</style>\n",
       "<table border=\"1\" class=\"dataframe\">\n",
       "  <thead>\n",
       "    <tr style=\"text-align: right;\">\n",
       "      <th></th>\n",
       "      <th>Station Name</th>\n",
       "      <th>GUID</th>\n",
       "      <th>Latitude</th>\n",
       "      <th>Longitude</th>\n",
       "      <th>River Served</th>\n",
       "      <th>Catchment</th>\n",
       "    </tr>\n",
       "  </thead>\n",
       "  <tbody>\n",
       "    <tr>\n",
       "      <th>0</th>\n",
       "      <td>Chiselborough</td>\n",
       "      <td>7998bf73-641d-4084-b00c-ca6989f2ba2b</td>\n",
       "      <td>50.926859</td>\n",
       "      <td>-2.768693</td>\n",
       "      <td>River Parrett</td>\n",
       "      <td>N/A</td>\n",
       "    </tr>\n",
       "  </tbody>\n",
       "</table>\n",
       "</div>"
      ],
      "text/plain": [
       "    Station Name                                  GUID  ...   River Served  Catchment\n",
       "0  Chiselborough  7998bf73-641d-4084-b00c-ca6989f2ba2b  ...  River Parrett        N/A\n",
       "\n",
       "[1 rows x 6 columns]"
      ]
     },
     "execution_count": 8,
     "metadata": {},
     "output_type": "execute_result"
    }
   ],
   "source": [
    "df_stations"
   ]
  },
  {
   "cell_type": "code",
   "execution_count": 0,
   "metadata": {
    "application/vnd.databricks.v1+cell": {
     "cellMetadata": {
      "byteLimit": 2048000,
      "rowLimit": 10000
     },
     "inputWidgets": {},
     "nuid": "dc81037b-fdb1-4842-9e09-801046b5e3a3",
     "showTitle": false,
     "tableResultSettingsMap": {},
     "title": ""
    }
   },
   "outputs": [],
   "source": [
    "#Investigate how many unique GUIDs (and therefore stations) there are. \n",
    "print(df_readings['GUID'].nunique())"
   ]
  },
  {
   "cell_type": "code",
   "execution_count": 0,
   "metadata": {
    "application/vnd.databricks.v1+cell": {
     "cellMetadata": {
      "byteLimit": 2048000,
      "rowLimit": 10000
     },
     "inputWidgets": {},
     "nuid": "db9c0903-338d-41ce-a6f8-2c508794788d",
     "showTitle": false,
     "tableResultSettingsMap": {},
     "title": ""
    }
   },
   "outputs": [
    {
     "output_type": "execute_result",
     "data": {
      "text/html": [
       "<div>\n",
       "<style scoped>\n",
       "    .dataframe tbody tr th:only-of-type {\n",
       "        vertical-align: middle;\n",
       "    }\n",
       "\n",
       "    .dataframe tbody tr th {\n",
       "        vertical-align: top;\n",
       "    }\n",
       "\n",
       "    .dataframe thead th {\n",
       "        text-align: right;\n",
       "    }\n",
       "</style>\n",
       "<table border=\"1\" class=\"dataframe\">\n",
       "  <thead>\n",
       "    <tr style=\"text-align: right;\">\n",
       "      <th></th>\n",
       "      <th>measure</th>\n",
       "      <th>date</th>\n",
       "      <th>dateTime</th>\n",
       "      <th>value</th>\n",
       "      <th>quality</th>\n",
       "      <th>GUID</th>\n",
       "    </tr>\n",
       "  </thead>\n",
       "  <tbody>\n",
       "    <tr>\n",
       "      <th>0</th>\n",
       "      <td>{'@id': 'http://environment.data.gov.uk/hydrol...</td>\n",
       "      <td>2019-12-19</td>\n",
       "      <td>2019-12-19T00:00:00</td>\n",
       "      <td>14.228</td>\n",
       "      <td>Good</td>\n",
       "      <td>7998bf73-641d-4084-b00c-ca6989f2ba2b</td>\n",
       "    </tr>\n",
       "    <tr>\n",
       "      <th>1</th>\n",
       "      <td>{'@id': 'http://environment.data.gov.uk/hydrol...</td>\n",
       "      <td>2019-12-19</td>\n",
       "      <td>2019-12-19T00:15:00</td>\n",
       "      <td>15.746</td>\n",
       "      <td>Good</td>\n",
       "      <td>7998bf73-641d-4084-b00c-ca6989f2ba2b</td>\n",
       "    </tr>\n",
       "    <tr>\n",
       "      <th>2</th>\n",
       "      <td>{'@id': 'http://environment.data.gov.uk/hydrol...</td>\n",
       "      <td>2019-12-19</td>\n",
       "      <td>2019-12-19T00:30:00</td>\n",
       "      <td>18.130</td>\n",
       "      <td>Good</td>\n",
       "      <td>7998bf73-641d-4084-b00c-ca6989f2ba2b</td>\n",
       "    </tr>\n",
       "    <tr>\n",
       "      <th>3</th>\n",
       "      <td>{'@id': 'http://environment.data.gov.uk/hydrol...</td>\n",
       "      <td>2019-12-19</td>\n",
       "      <td>2019-12-19T00:45:00</td>\n",
       "      <td>21.454</td>\n",
       "      <td>Good</td>\n",
       "      <td>7998bf73-641d-4084-b00c-ca6989f2ba2b</td>\n",
       "    </tr>\n",
       "    <tr>\n",
       "      <th>4</th>\n",
       "      <td>{'@id': 'http://environment.data.gov.uk/hydrol...</td>\n",
       "      <td>2019-12-19</td>\n",
       "      <td>2019-12-19T01:00:00</td>\n",
       "      <td>24.321</td>\n",
       "      <td>Good</td>\n",
       "      <td>7998bf73-641d-4084-b00c-ca6989f2ba2b</td>\n",
       "    </tr>\n",
       "    <tr>\n",
       "      <th>...</th>\n",
       "      <td>...</td>\n",
       "      <td>...</td>\n",
       "      <td>...</td>\n",
       "      <td>...</td>\n",
       "      <td>...</td>\n",
       "      <td>...</td>\n",
       "    </tr>\n",
       "    <tr>\n",
       "      <th>173083</th>\n",
       "      <td>{'@id': 'http://environment.data.gov.uk/hydrol...</td>\n",
       "      <td>2024-03-13</td>\n",
       "      <td>2024-03-13T22:00:00</td>\n",
       "      <td>1.562</td>\n",
       "      <td>Good</td>\n",
       "      <td>7998bf73-641d-4084-b00c-ca6989f2ba2b</td>\n",
       "    </tr>\n",
       "    <tr>\n",
       "      <th>173084</th>\n",
       "      <td>{'@id': 'http://environment.data.gov.uk/hydrol...</td>\n",
       "      <td>2024-03-13</td>\n",
       "      <td>2024-03-13T22:15:00</td>\n",
       "      <td>1.562</td>\n",
       "      <td>Good</td>\n",
       "      <td>7998bf73-641d-4084-b00c-ca6989f2ba2b</td>\n",
       "    </tr>\n",
       "    <tr>\n",
       "      <th>173085</th>\n",
       "      <td>{'@id': 'http://environment.data.gov.uk/hydrol...</td>\n",
       "      <td>2024-03-13</td>\n",
       "      <td>2024-03-13T22:30:00</td>\n",
       "      <td>1.562</td>\n",
       "      <td>Good</td>\n",
       "      <td>7998bf73-641d-4084-b00c-ca6989f2ba2b</td>\n",
       "    </tr>\n",
       "    <tr>\n",
       "      <th>173086</th>\n",
       "      <td>{'@id': 'http://environment.data.gov.uk/hydrol...</td>\n",
       "      <td>2024-03-14</td>\n",
       "      <td>2024-03-14T04:00:00</td>\n",
       "      <td>1.499</td>\n",
       "      <td>Good</td>\n",
       "      <td>7998bf73-641d-4084-b00c-ca6989f2ba2b</td>\n",
       "    </tr>\n",
       "    <tr>\n",
       "      <th>173087</th>\n",
       "      <td>{'@id': 'http://environment.data.gov.uk/hydrol...</td>\n",
       "      <td>2024-03-14</td>\n",
       "      <td>2024-03-14T04:15:00</td>\n",
       "      <td>1.499</td>\n",
       "      <td>Good</td>\n",
       "      <td>7998bf73-641d-4084-b00c-ca6989f2ba2b</td>\n",
       "    </tr>\n",
       "  </tbody>\n",
       "</table>\n",
       "<p>173088 rows × 6 columns</p>\n",
       "</div>"
      ],
      "text/plain": [
       "                                                  measure  ...                                  GUID\n",
       "0       {'@id': 'http://environment.data.gov.uk/hydrol...  ...  7998bf73-641d-4084-b00c-ca6989f2ba2b\n",
       "1       {'@id': 'http://environment.data.gov.uk/hydrol...  ...  7998bf73-641d-4084-b00c-ca6989f2ba2b\n",
       "2       {'@id': 'http://environment.data.gov.uk/hydrol...  ...  7998bf73-641d-4084-b00c-ca6989f2ba2b\n",
       "3       {'@id': 'http://environment.data.gov.uk/hydrol...  ...  7998bf73-641d-4084-b00c-ca6989f2ba2b\n",
       "4       {'@id': 'http://environment.data.gov.uk/hydrol...  ...  7998bf73-641d-4084-b00c-ca6989f2ba2b\n",
       "...                                                   ...  ...                                   ...\n",
       "173083  {'@id': 'http://environment.data.gov.uk/hydrol...  ...  7998bf73-641d-4084-b00c-ca6989f2ba2b\n",
       "173084  {'@id': 'http://environment.data.gov.uk/hydrol...  ...  7998bf73-641d-4084-b00c-ca6989f2ba2b\n",
       "173085  {'@id': 'http://environment.data.gov.uk/hydrol...  ...  7998bf73-641d-4084-b00c-ca6989f2ba2b\n",
       "173086  {'@id': 'http://environment.data.gov.uk/hydrol...  ...  7998bf73-641d-4084-b00c-ca6989f2ba2b\n",
       "173087  {'@id': 'http://environment.data.gov.uk/hydrol...  ...  7998bf73-641d-4084-b00c-ca6989f2ba2b\n",
       "\n",
       "[173088 rows x 6 columns]"
      ]
     },
     "execution_count": 10,
     "metadata": {},
     "output_type": "execute_result"
    }
   ],
   "source": [
    "df_readings"
   ]
  },
  {
   "cell_type": "code",
   "execution_count": 0,
   "metadata": {
    "application/vnd.databricks.v1+cell": {
     "cellMetadata": {
      "byteLimit": 2048000,
      "rowLimit": 10000
     },
     "inputWidgets": {},
     "nuid": "9c88d8ee-1aca-4f4e-9c21-3641fd744467",
     "showTitle": false,
     "tableResultSettingsMap": {},
     "title": ""
    }
   },
   "outputs": [],
   "source": [
    "#Rename GUID to station.\n",
    "df_readings.rename(columns={\"GUID\": \"station\"}, inplace=True)"
   ]
  },
  {
   "cell_type": "code",
   "execution_count": 0,
   "metadata": {
    "application/vnd.databricks.v1+cell": {
     "cellMetadata": {
      "byteLimit": 2048000,
      "rowLimit": 10000
     },
     "inputWidgets": {},
     "nuid": "8239ca38-3289-4e4f-a518-90632b8e1fa8",
     "showTitle": false,
     "tableResultSettingsMap": {},
     "title": ""
    }
   },
   "outputs": [],
   "source": [
    "# Make sure the directory exists\n",
    "os.makedirs(\"Data\", exist_ok=True)\n",
    "\n",
    "# Save the DataFrame to the defined path\n",
    "df_readings.to_csv(os.path.join(\"Data\", \"Imported_API_Flow.csv\"), index=False)\n",
    "\n",
    "# Print the absolute path of the saved CSV\n",
    "print(f\"CSV saved to {os.path.abspath(os.path.join('Data', 'Imported_API_Flow.csv'))}\")"
   ]
  }
 ],
 "metadata": {
  "application/vnd.databricks.v1+notebook": {
   "computePreferences": null,
   "dashboards": [],
   "environmentMetadata": {
    "base_environment": "",
    "environment_version": "1"
   },
   "inputWidgetPreferences": null,
   "language": "python",
   "notebookMetadata": {
    "pythonIndentUnit": 4
   },
   "notebookName": "[API IMPORT] (River Parrett) Hydrology Flow API Data (15 Minute Historic Just The Stations Of Interest)",
   "widgets": {}
  },
  "language_info": {
   "name": "python"
  }
 },
 "nbformat": 4,
 "nbformat_minor": 0
}