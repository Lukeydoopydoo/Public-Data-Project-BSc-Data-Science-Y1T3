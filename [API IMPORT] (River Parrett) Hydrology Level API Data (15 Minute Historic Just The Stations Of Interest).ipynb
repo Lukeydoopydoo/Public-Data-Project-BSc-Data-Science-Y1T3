{
 "cells": [
  {
   "cell_type": "markdown",
   "metadata": {
    "application/vnd.databricks.v1+cell": {
     "cellMetadata": {},
     "inputWidgets": {},
     "nuid": "d862c74a-41a6-45e5-95b9-6acdb712463f",
     "showTitle": false,
     "tableResultSettingsMap": {},
     "title": ""
    }
   },
   "source": [
    "### Importing the level data."
   ]
  },
  {
   "cell_type": "code",
   "execution_count": 0,
   "metadata": {
    "application/vnd.databricks.v1+cell": {
     "cellMetadata": {
      "byteLimit": 2048000,
      "rowLimit": 10000
     },
     "inputWidgets": {},
     "nuid": "c19bc973-2f54-4570-b832-885e0c08541c",
     "showTitle": false,
     "tableResultSettingsMap": {},
     "title": ""
    }
   },
   "outputs": [],
   "source": [
    "# Import required libraries.\n",
    "import requests as rq\n",
    "import pandas as pd\n",
    "import os"
   ]
  },
  {
   "cell_type": "code",
   "execution_count": 0,
   "metadata": {
    "application/vnd.databricks.v1+cell": {
     "cellMetadata": {
      "byteLimit": 2048000,
      "rowLimit": 10000
     },
     "inputWidgets": {},
     "nuid": "276d732b-4747-4822-a99f-62b4af8d84ad",
     "showTitle": false,
     "tableResultSettingsMap": {},
     "title": ""
    }
   },
   "outputs": [],
   "source": [
    "#API URL to get water level stations on River Parrett.\n",
    "api_url = \"http://environment.data.gov.uk/hydrology/id/stations.json\"\n",
    "params = {\"observedProperty\": \"waterLevel\", \"riverName\": \"River Parrett\"}\n",
    "\n",
    "#Request data from the API using 'get'.\n",
    "response = rq.get(api_url, params=params)\n",
    "response.raise_for_status()  # Stop if there's an error and defines the error.\n",
    "stations = response.json().get(\"items\", []) #Converts the response into a Python dictionary and gets the \"items\" key.\n",
    "\n",
    "#Extract relevant data into a list using list comprehension, checking it is a dictionary and is complete. \n",
    "station_data = [{\"Station Name\": station.get(\"label\"),\"GUID\": station.get(\"stationGuid\"),\"Latitude\": station.get(\"lat\"),\"Longitude\": station.get(\"long\"),\"River Served\": station.get(\"riverName\", \"N/A\"),\"Catchment\": station.get(\"catchmentName\", \"N/A\")} for station in stations if isinstance(station, dict) and station.get(\"notation\")]\n",
    "\n",
    "#Convert to DataFrame and save as CSV.\n",
    "df_stations = pd.DataFrame(station_data)"
   ]
  },
  {
   "cell_type": "code",
   "execution_count": 0,
   "metadata": {
    "application/vnd.databricks.v1+cell": {
     "cellMetadata": {
      "byteLimit": 2048000,
      "rowLimit": 10000
     },
     "inputWidgets": {},
     "nuid": "fdca30d2-c27c-40d5-a0dd-92d2c9ee3879",
     "showTitle": false,
     "tableResultSettingsMap": {},
     "title": ""
    }
   },
   "outputs": [],
   "source": [
    "#Initialise a list.\n",
    "readings = []\n",
    "\n",
    "#Loop over unique station GUIDs\n",
    "for guid in df_stations[\"GUID\"].dropna().unique():\n",
    "    #API URL.\n",
    "    url = \"http://environment.data.gov.uk/hydrology/data/readings.json\"\n",
    "    #Parameters for the request. \n",
    "    params = {\"station\": guid,\"observedProperty\": \"waterLevel\",\"periodName\": \"15min\",\"mineq-date\": \"2019-12-19\",\"max-date\": \"2024-11-25\",\"_limit\": 2000000}\n",
    "    #Parameters for the request. \n",
    "    response = rq.get(url, params=params)\n",
    "    response.raise_for_status()  # Stop if there's an error and defines the error.\n",
    "    items = response.json().get(\"items\", []) #Returns a Python dictionary of the items.\n",
    "    # Append readings to the list, adding the GUID for reference.\n",
    "    for item in items:\n",
    "        item[\"GUID\"] = guid\n",
    "        readings.append(item)\n",
    "\n",
    "#Create a DataFrame from the collected readings.\n",
    "df_readings = pd.DataFrame(readings)\n"
   ]
  },
  {
   "cell_type": "code",
   "execution_count": 0,
   "metadata": {
    "application/vnd.databricks.v1+cell": {
     "cellMetadata": {
      "byteLimit": 2048000,
      "rowLimit": 10000
     },
     "inputWidgets": {},
     "nuid": "dc81037b-fdb1-4842-9e09-801046b5e3a3",
     "showTitle": false,
     "tableResultSettingsMap": {},
     "title": ""
    }
   },
   "outputs": [
    {
     "output_type": "stream",
     "name": "stdout",
     "output_type": "stream",
     "text": [
      "2\n"
     ]
    }
   ],
   "source": [
    "#Investigate how many unique GUIDs (and therefore stations) there are. \n",
    "print(df_readings['GUID'].nunique())"
   ]
  },
  {
   "cell_type": "code",
   "execution_count": 0,
   "metadata": {
    "application/vnd.databricks.v1+cell": {
     "cellMetadata": {
      "byteLimit": 2048000,
      "rowLimit": 10000
     },
     "inputWidgets": {},
     "nuid": "db9c0903-338d-41ce-a6f8-2c508794788d",
     "showTitle": false,
     "tableResultSettingsMap": {},
     "title": ""
    }
   },
   "outputs": [
    {
     "output_type": "execute_result",
     "data": {
      "text/html": [
       "<div>\n",
       "<style scoped>\n",
       "    .dataframe tbody tr th:only-of-type {\n",
       "        vertical-align: middle;\n",
       "    }\n",
       "\n",
       "    .dataframe tbody tr th {\n",
       "        vertical-align: top;\n",
       "    }\n",
       "\n",
       "    .dataframe thead th {\n",
       "        text-align: right;\n",
       "    }\n",
       "</style>\n",
       "<table border=\"1\" class=\"dataframe\">\n",
       "  <thead>\n",
       "    <tr style=\"text-align: right;\">\n",
       "      <th></th>\n",
       "      <th>measure</th>\n",
       "      <th>date</th>\n",
       "      <th>dateTime</th>\n",
       "      <th>value</th>\n",
       "      <th>quality</th>\n",
       "      <th>GUID</th>\n",
       "      <th>qcode</th>\n",
       "    </tr>\n",
       "  </thead>\n",
       "  <tbody>\n",
       "    <tr>\n",
       "      <th>0</th>\n",
       "      <td>{'@id': 'http://environment.data.gov.uk/hydrol...</td>\n",
       "      <td>2019-12-19</td>\n",
       "      <td>2019-12-19T00:00:00</td>\n",
       "      <td>2.078</td>\n",
       "      <td>Good</td>\n",
       "      <td>7998bf73-641d-4084-b00c-ca6989f2ba2b</td>\n",
       "      <td>NaN</td>\n",
       "    </tr>\n",
       "    <tr>\n",
       "      <th>1</th>\n",
       "      <td>{'@id': 'http://environment.data.gov.uk/hydrol...</td>\n",
       "      <td>2019-12-19</td>\n",
       "      <td>2019-12-19T00:15:00</td>\n",
       "      <td>2.107</td>\n",
       "      <td>Good</td>\n",
       "      <td>7998bf73-641d-4084-b00c-ca6989f2ba2b</td>\n",
       "      <td>NaN</td>\n",
       "    </tr>\n",
       "    <tr>\n",
       "      <th>2</th>\n",
       "      <td>{'@id': 'http://environment.data.gov.uk/hydrol...</td>\n",
       "      <td>2019-12-19</td>\n",
       "      <td>2019-12-19T00:30:00</td>\n",
       "      <td>2.148</td>\n",
       "      <td>Good</td>\n",
       "      <td>7998bf73-641d-4084-b00c-ca6989f2ba2b</td>\n",
       "      <td>NaN</td>\n",
       "    </tr>\n",
       "    <tr>\n",
       "      <th>3</th>\n",
       "      <td>{'@id': 'http://environment.data.gov.uk/hydrol...</td>\n",
       "      <td>2019-12-19</td>\n",
       "      <td>2019-12-19T00:45:00</td>\n",
       "      <td>2.198</td>\n",
       "      <td>Good</td>\n",
       "      <td>7998bf73-641d-4084-b00c-ca6989f2ba2b</td>\n",
       "      <td>NaN</td>\n",
       "    </tr>\n",
       "    <tr>\n",
       "      <th>4</th>\n",
       "      <td>{'@id': 'http://environment.data.gov.uk/hydrol...</td>\n",
       "      <td>2019-12-19</td>\n",
       "      <td>2019-12-19T01:00:00</td>\n",
       "      <td>2.236</td>\n",
       "      <td>Good</td>\n",
       "      <td>7998bf73-641d-4084-b00c-ca6989f2ba2b</td>\n",
       "      <td>NaN</td>\n",
       "    </tr>\n",
       "    <tr>\n",
       "      <th>...</th>\n",
       "      <td>...</td>\n",
       "      <td>...</td>\n",
       "      <td>...</td>\n",
       "      <td>...</td>\n",
       "      <td>...</td>\n",
       "      <td>...</td>\n",
       "      <td>...</td>\n",
       "    </tr>\n",
       "    <tr>\n",
       "      <th>346171</th>\n",
       "      <td>{'@id': 'http://environment.data.gov.uk/hydrol...</td>\n",
       "      <td>2024-11-19</td>\n",
       "      <td>2024-11-19T01:00:00</td>\n",
       "      <td>1.719</td>\n",
       "      <td>Good</td>\n",
       "      <td>ce5176cf-1523-4dbe-855f-17a0efffbe02</td>\n",
       "      <td>NaN</td>\n",
       "    </tr>\n",
       "    <tr>\n",
       "      <th>346172</th>\n",
       "      <td>{'@id': 'http://environment.data.gov.uk/hydrol...</td>\n",
       "      <td>2024-11-20</td>\n",
       "      <td>2024-11-20T12:45:00</td>\n",
       "      <td>2.270</td>\n",
       "      <td>Good</td>\n",
       "      <td>ce5176cf-1523-4dbe-855f-17a0efffbe02</td>\n",
       "      <td>NaN</td>\n",
       "    </tr>\n",
       "    <tr>\n",
       "      <th>346173</th>\n",
       "      <td>{'@id': 'http://environment.data.gov.uk/hydrol...</td>\n",
       "      <td>2024-11-21</td>\n",
       "      <td>2024-11-21T08:45:00</td>\n",
       "      <td>3.924</td>\n",
       "      <td>Good</td>\n",
       "      <td>ce5176cf-1523-4dbe-855f-17a0efffbe02</td>\n",
       "      <td>NaN</td>\n",
       "    </tr>\n",
       "    <tr>\n",
       "      <th>346174</th>\n",
       "      <td>{'@id': 'http://environment.data.gov.uk/hydrol...</td>\n",
       "      <td>2024-11-23</td>\n",
       "      <td>2024-11-23T06:45:00</td>\n",
       "      <td>1.450</td>\n",
       "      <td>Good</td>\n",
       "      <td>ce5176cf-1523-4dbe-855f-17a0efffbe02</td>\n",
       "      <td>NaN</td>\n",
       "    </tr>\n",
       "    <tr>\n",
       "      <th>346175</th>\n",
       "      <td>{'@id': 'http://environment.data.gov.uk/hydrol...</td>\n",
       "      <td>2024-11-24</td>\n",
       "      <td>2024-11-24T13:45:00</td>\n",
       "      <td>3.511</td>\n",
       "      <td>Good</td>\n",
       "      <td>ce5176cf-1523-4dbe-855f-17a0efffbe02</td>\n",
       "      <td>NaN</td>\n",
       "    </tr>\n",
       "  </tbody>\n",
       "</table>\n",
       "<p>346176 rows × 7 columns</p>\n",
       "</div>"
      ],
      "text/plain": [
       "                                                  measure  ... qcode\n",
       "0       {'@id': 'http://environment.data.gov.uk/hydrol...  ...   NaN\n",
       "1       {'@id': 'http://environment.data.gov.uk/hydrol...  ...   NaN\n",
       "2       {'@id': 'http://environment.data.gov.uk/hydrol...  ...   NaN\n",
       "3       {'@id': 'http://environment.data.gov.uk/hydrol...  ...   NaN\n",
       "4       {'@id': 'http://environment.data.gov.uk/hydrol...  ...   NaN\n",
       "...                                                   ...  ...   ...\n",
       "346171  {'@id': 'http://environment.data.gov.uk/hydrol...  ...   NaN\n",
       "346172  {'@id': 'http://environment.data.gov.uk/hydrol...  ...   NaN\n",
       "346173  {'@id': 'http://environment.data.gov.uk/hydrol...  ...   NaN\n",
       "346174  {'@id': 'http://environment.data.gov.uk/hydrol...  ...   NaN\n",
       "346175  {'@id': 'http://environment.data.gov.uk/hydrol...  ...   NaN\n",
       "\n",
       "[346176 rows x 7 columns]"
      ]
     },
     "execution_count": 38,
     "metadata": {},
     "output_type": "execute_result"
    }
   ],
   "source": [
    "df_readings"
   ]
  },
  {
   "cell_type": "code",
   "execution_count": 0,
   "metadata": {
    "application/vnd.databricks.v1+cell": {
     "cellMetadata": {
      "byteLimit": 2048000,
      "rowLimit": 10000
     },
     "inputWidgets": {},
     "nuid": "9c88d8ee-1aca-4f4e-9c21-3641fd744467",
     "showTitle": false,
     "tableResultSettingsMap": {},
     "title": ""
    }
   },
   "outputs": [],
   "source": [
    "#Rename GUID to station.\n",
    "df_readings.rename(columns={\"GUID\": \"station\"}, inplace=True)"
   ]
  },
  {
   "cell_type": "code",
   "execution_count": 0,
   "metadata": {
    "application/vnd.databricks.v1+cell": {
     "cellMetadata": {
      "byteLimit": 2048000,
      "rowLimit": 10000
     },
     "inputWidgets": {},
     "nuid": "e4d44ed3-bcc3-4127-91e4-64768c252705",
     "showTitle": false,
     "tableResultSettingsMap": {},
     "title": ""
    }
   },
   "outputs": [
    {
     "output_type": "stream",
     "name": "stdout",
     "output_type": "stream",
     "text": [
      "CSV saved to /Workspace/Users/luke.male@environment-agency.gov.uk/Reduced Scope Flooding Work/*** ML Flood Prediction/API Imports and Data/Flood Warning Predictor/Data/Imported_API_Level.csv\n"
     ]
    }
   ],
   "source": [
    "\n",
    "os.makedirs(\"Data\", exist_ok=True)\n",
    "df_readings.to_csv((os.path.join(output_dir, \"Imported_API_Level.csv\")), index=False)\n",
    "print(f\"CSV saved to {os.path.abspath(output_path)}\")\n"
   ]
  }
 ],
 "metadata": {
  "application/vnd.databricks.v1+notebook": {
   "computePreferences": null,
   "dashboards": [],
   "environmentMetadata": {
    "base_environment": "",
    "environment_version": "1"
   },
   "inputWidgetPreferences": null,
   "language": "python",
   "notebookMetadata": {
    "pythonIndentUnit": 4
   },
   "notebookName": "[API IMPORT] (River Parrett) Hydrology Level API Data (15 Minute Historic Just The Stations Of Interest)",
   "widgets": {}
  },
  "language_info": {
   "name": "python"
  }
 },
 "nbformat": 4,
 "nbformat_minor": 0
}